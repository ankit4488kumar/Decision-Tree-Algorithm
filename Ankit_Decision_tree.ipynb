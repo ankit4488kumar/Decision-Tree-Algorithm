{
 "cells": [
  {
   "cell_type": "code",
   "execution_count": 29,
   "metadata": {},
   "outputs": [],
   "source": [
    "import pandas as pd\n",
    "import numpy as np\n",
    "import networkx as nx\n",
    "from scipy import stats\n",
    "\n",
    "\n",
    "import matplotlib.pyplot as plt\n",
    "import seaborn as sns\n",
    "%matplotlib inline\n",
    "\n",
    "import random\n",
    "from pprint import pprint"
   ]
  },
  {
   "cell_type": "code",
   "execution_count": 30,
   "metadata": {},
   "outputs": [],
   "source": [
    "data_f = pd.read_csv(\"/home/akki/Downloads/datasets_89775_207354_play_tennis.csv\")\n"
   ]
  },
  {
   "cell_type": "code",
   "execution_count": 31,
   "metadata": {},
   "outputs": [
    {
     "data": {
      "text/html": [
       "<div>\n",
       "<style scoped>\n",
       "    .dataframe tbody tr th:only-of-type {\n",
       "        vertical-align: middle;\n",
       "    }\n",
       "\n",
       "    .dataframe tbody tr th {\n",
       "        vertical-align: top;\n",
       "    }\n",
       "\n",
       "    .dataframe thead th {\n",
       "        text-align: right;\n",
       "    }\n",
       "</style>\n",
       "<table border=\"1\" class=\"dataframe\">\n",
       "  <thead>\n",
       "    <tr style=\"text-align: right;\">\n",
       "      <th></th>\n",
       "      <th>day</th>\n",
       "      <th>outlook</th>\n",
       "      <th>temp</th>\n",
       "      <th>humidity</th>\n",
       "      <th>wind</th>\n",
       "      <th>play</th>\n",
       "    </tr>\n",
       "  </thead>\n",
       "  <tbody>\n",
       "    <tr>\n",
       "      <th>0</th>\n",
       "      <td>D1</td>\n",
       "      <td>Sunny</td>\n",
       "      <td>Hot</td>\n",
       "      <td>High</td>\n",
       "      <td>Weak</td>\n",
       "      <td>No</td>\n",
       "    </tr>\n",
       "    <tr>\n",
       "      <th>1</th>\n",
       "      <td>D2</td>\n",
       "      <td>Sunny</td>\n",
       "      <td>Hot</td>\n",
       "      <td>High</td>\n",
       "      <td>Strong</td>\n",
       "      <td>No</td>\n",
       "    </tr>\n",
       "    <tr>\n",
       "      <th>2</th>\n",
       "      <td>D3</td>\n",
       "      <td>Overcast</td>\n",
       "      <td>Hot</td>\n",
       "      <td>High</td>\n",
       "      <td>Weak</td>\n",
       "      <td>Yes</td>\n",
       "    </tr>\n",
       "    <tr>\n",
       "      <th>3</th>\n",
       "      <td>D4</td>\n",
       "      <td>Rain</td>\n",
       "      <td>Mild</td>\n",
       "      <td>High</td>\n",
       "      <td>Weak</td>\n",
       "      <td>Yes</td>\n",
       "    </tr>\n",
       "    <tr>\n",
       "      <th>4</th>\n",
       "      <td>D5</td>\n",
       "      <td>Rain</td>\n",
       "      <td>Cool</td>\n",
       "      <td>Normal</td>\n",
       "      <td>Weak</td>\n",
       "      <td>Yes</td>\n",
       "    </tr>\n",
       "  </tbody>\n",
       "</table>\n",
       "</div>"
      ],
      "text/plain": [
       "  day   outlook  temp humidity    wind play\n",
       "0  D1     Sunny   Hot     High    Weak   No\n",
       "1  D2     Sunny   Hot     High  Strong   No\n",
       "2  D3  Overcast   Hot     High    Weak  Yes\n",
       "3  D4      Rain  Mild     High    Weak  Yes\n",
       "4  D5      Rain  Cool   Normal    Weak  Yes"
      ]
     },
     "execution_count": 31,
     "metadata": {},
     "output_type": "execute_result"
    }
   ],
   "source": [
    "data_f.head()"
   ]
  },
  {
   "cell_type": "code",
   "execution_count": 32,
   "metadata": {},
   "outputs": [
    {
     "name": "stdout",
     "output_type": "stream",
     "text": [
      "<class 'pandas.core.frame.DataFrame'>\n",
      "RangeIndex: 14 entries, 0 to 13\n",
      "Data columns (total 6 columns):\n",
      " #   Column    Non-Null Count  Dtype \n",
      "---  ------    --------------  ----- \n",
      " 0   day       14 non-null     object\n",
      " 1   outlook   14 non-null     object\n",
      " 2   temp      14 non-null     object\n",
      " 3   humidity  14 non-null     object\n",
      " 4   wind      14 non-null     object\n",
      " 5   play      14 non-null     object\n",
      "dtypes: object(6)\n",
      "memory usage: 800.0+ bytes\n"
     ]
    }
   ],
   "source": [
    "data_f.info()"
   ]
  },
  {
   "cell_type": "code",
   "execution_count": 33,
   "metadata": {},
   "outputs": [],
   "source": [
    "class Tree(object):\n",
    "    \"Generic tree node.\"\n",
    "    def __init__(self, name='root', children=None):\n",
    "        self.name = name\n",
    "        self.children = []\n",
    "        if children is not None:\n",
    "            for child in children:\n",
    "                self.add_child(child)\n",
    "    def __repr__(self):\n",
    "        return self.name\n",
    "    \n",
    "    def add_child(self, node):\n",
    "        assert isinstance(node, Tree)\n",
    "        self.children.append(node)\n",
    "    "
   ]
  },
  {
   "cell_type": "code",
   "execution_count": 34,
   "metadata": {},
   "outputs": [],
   "source": [
    "class Tree(object):\n",
    "    \"Generic tree node.\"\n",
    "    def __init__(self, name='root', children=None):\n",
    "        self.name = name\n",
    "        self.children = []\n",
    "        if children is not None:\n",
    "            for i in children:\n",
    "                self.add_child(i)\n",
    "    def __repr__(self):\n",
    "        return self.name\n",
    "    \n",
    "    def add_child(self, node):\n",
    "        assert isinstance(node, Tree)\n",
    "        self.children.append(node)\n",
    "    "
   ]
  },
  {
   "cell_type": "code",
   "execution_count": 35,
   "metadata": {},
   "outputs": [],
   "source": [
    "def Entropy(labels):\n",
    "    entropy = 0\n",
    "    labels = list(labels)\n",
    "    categories = np.unique(labels)\n",
    "    n = len(labels)\n",
    "    for j in categories:\n",
    "        p = labels.count(j)/n\n",
    "        entropy = entropy + (-p)*(np.log2(p))\n",
    "    return entropy"
   ]
  },
  {
   "cell_type": "code",
   "execution_count": null,
   "metadata": {},
   "outputs": [],
   "source": []
  },
  {
   "cell_type": "code",
   "execution_count": 36,
   "metadata": {},
   "outputs": [],
   "source": [
    "def Information_Gain(S,labels,data_f):\n",
    "    S = list(S)\n",
    "    labels = list(labels)\n",
    "    n = len(S)\n",
    "    entropy_S = Entropy(labels)\n",
    "    F = np.unique(S)\n",
    "    entropy_Sv = []\n",
    "    for v in F:\n",
    "        l = []\n",
    "        for i in range(n):\n",
    "            if S[i]==v:\n",
    "                l.append(labels[i])\n",
    "        entropy_Sv.append(Entropy(l))\n",
    "    information_gain = entropy_S\n",
    "    for j in range(len(F)):\n",
    "        num_of_v = S.count(F[j])\n",
    "        information_gain = information_gain - (num_of_v/n)*(entropy_Sv[j])\n",
    "    return information_gain\n",
    "    "
   ]
  },
  {
   "cell_type": "code",
   "execution_count": 37,
   "metadata": {},
   "outputs": [],
   "source": [
    "def Imp_attr(data_f,attr,labels):\n",
    "    info_gain = []\n",
    "    for A in attr:\n",
    "        gain = Information_Gain(data_f[A],labels,data_f)\n",
    "        info_gain.append(gain)\n",
    "    max_gain = info_gain.index(max(info_gain))\n",
    "    return attr[max_gain]"
   ]
  },
  {
   "cell_type": "code",
   "execution_count": 40,
   "metadata": {},
   "outputs": [],
   "source": [
    "def decision_tree(data_f,attr,labels_name):\n",
    "    if len(np.unique(list(data_f[labels_name]))) == 1:\n",
    "        C = np.unique(list(data_f[labels_name]))[0]\n",
    "        return Tree(C)\n",
    "    if len(attr) == 0:\n",
    "        C = stats.mode(data_f[labels_name])[0][0]\n",
    "        return Tree(C)\n",
    "    else:\n",
    "        imp_attr = Imp_attr(data_f,attr,data_f[labels_name])\n",
    "        tree = Tree(imp_attr)\n",
    "        attr.remove(imp_attr)\n",
    "        for a in np.unique(data_f[imp_attr]):\n",
    "            new_data_f = data_f[data_f[imp_attr]==a]\n",
    "            if (len(new_data_f) == 0 ):\n",
    "                C = stats.mode(data_f[labels_name])[0][0]\n",
    "                tree.add_child(Tree(C))\n",
    "            else:\n",
    "                tree.add_child(decision_tree(new_data_f,attr,labels_name))\n",
    "    return tree"
   ]
  },
  {
   "cell_type": "code",
   "execution_count": 41,
   "metadata": {},
   "outputs": [],
   "source": [
    "attr = ['outlook','temp','humidity','wind']\n",
    "tree = decision_tree(data_f,attr,labels_name='play')"
   ]
  },
  {
   "cell_type": "code",
   "execution_count": 42,
   "metadata": {},
   "outputs": [],
   "source": [
    "def print_tree(tree):\n",
    "    if len(tree.children)!=0:\n",
    "        print(\"parent node: \" ,tree)\n",
    "        print(\"childern nodes :\")\n",
    "        for child in tree.children:\n",
    "            print(\"\\t\\t\", child)\n",
    "    \n",
    "    for child in tree.children:\n",
    "        if len(tree.children)!=0:\n",
    "            print_tree(child)\n"
   ]
  },
  {
   "cell_type": "code",
   "execution_count": 8,
   "metadata": {},
   "outputs": [],
   "source": [
    "def print_tree(tree):\n",
    "    if len(tree.children)!=0:\n",
    "        print(\"parent node: \" ,tree)\n",
    "        print(\"childern nodes :\")\n",
    "        for child in tree.children:\n",
    "            print(\"\\t\\t\", child)\n",
    "    \n",
    "    for child in tree.children:\n",
    "        if len(tree.children)!=0:\n",
    "            print_tree(child)\n"
   ]
  },
  {
   "cell_type": "code",
   "execution_count": 43,
   "metadata": {},
   "outputs": [
    {
     "name": "stdout",
     "output_type": "stream",
     "text": [
      "parent node:  outlook\n",
      "childern nodes :\n",
      "\t\t Yes\n",
      "\t\t wind\n",
      "\t\t humidity\n",
      "parent node:  wind\n",
      "childern nodes :\n",
      "\t\t No\n",
      "\t\t Yes\n",
      "parent node:  humidity\n",
      "childern nodes :\n",
      "\t\t No\n",
      "\t\t Yes\n"
     ]
    }
   ],
   "source": [
    "print_tree(tree)"
   ]
  },
  {
   "cell_type": "code",
   "execution_count": null,
   "metadata": {},
   "outputs": [],
   "source": []
  }
 ],
 "metadata": {
  "kernelspec": {
   "display_name": "Python 3",
   "language": "python",
   "name": "python3"
  },
  "language_info": {
   "codemirror_mode": {
    "name": "ipython",
    "version": 3
   },
   "file_extension": ".py",
   "mimetype": "text/x-python",
   "name": "python",
   "nbconvert_exporter": "python",
   "pygments_lexer": "ipython3",
   "version": "3.8.3"
  }
 },
 "nbformat": 4,
 "nbformat_minor": 4
}
